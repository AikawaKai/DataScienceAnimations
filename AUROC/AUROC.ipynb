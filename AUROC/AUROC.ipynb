{
 "cells": [
  {
   "cell_type": "code",
   "execution_count": 1,
   "metadata": {},
   "outputs": [],
   "source": [
    "### Libraries loading"
   ]
  },
  {
   "cell_type": "code",
   "execution_count": 21,
   "metadata": {},
   "outputs": [],
   "source": [
    "from sklearn.metrics import roc_curve, roc_auc_score\n",
    "from numpy.random import normal\n",
    "from matplotlib.lines import Line2D"
   ]
  },
  {
   "cell_type": "code",
   "execution_count": 11,
   "metadata": {},
   "outputs": [],
   "source": [
    "def filter(list_):\n",
    "    new_list = []\n",
    "    for v in list_:\n",
    "        if 0<=v<=1:\n",
    "            new_list.append(v)\n",
    "    return new_list\n",
    "\n",
    "normal_dist1 = filter(normal(0.3, 0.1, 3000))\n",
    "normal_dist2 = filter(normal(0.6, 0.2, 3000))\n",
    "target = [0 for i in range(len(normal_dist1))] + [1 for i in range(len(normal_dist2))]\n",
    "predictions = normal_dist1 + normal_dist2"
   ]
  },
  {
   "cell_type": "code",
   "execution_count": 27,
   "metadata": {},
   "outputs": [],
   "source": [
    "fpr, recall, threshold = roc_curve(target, predictions)\n",
    "auroc_v = roc_auc_score(target, predictions)"
   ]
  },
  {
   "cell_type": "code",
   "execution_count": 28,
   "metadata": {},
   "outputs": [],
   "source": [
    "import matplotlib.pyplot as plt"
   ]
  },
  {
   "cell_type": "code",
   "execution_count": 14,
   "metadata": {},
   "outputs": [],
   "source": [
    "# curr_threshold = 500\n",
    "# fig = plt.figure(figsize=(6, 10))\n",
    "# plt.subplot(2,1,1)\n",
    "# plt.plot(fpr, recall)\n",
    "# plt.axvline(fpr[curr_threshold])\n",
    "# plt.plot([i/10 for i in range(11)], [i/10 for i in range(11)], color=\"red\")\n",
    "# plt.show()\n",
    "\n",
    "# kwargs = dict(alpha=0.3, density=True, bins=50)\n",
    "# custom_lines = [Line2D([0], [0], color=\"red\", lw=10),\n",
    "#                 Line2D([0], [0], color=\"blue\", lw=10)]\n",
    "# fig = plt.figure(figsize=(6, 10))\n",
    "# plt.subplot(2,1,2)\n",
    "# plt.hist(normal_dist1, **kwargs, color=\"red\")\n",
    "# plt.hist(normal_dist2, **kwargs, color=\"blue\")\n",
    "# plt.axvline(threshold[curr_threshold])\n",
    "# plt.legend(custom_lines, ['Class 0', 'Class 1'], prop={'size': 15})\n",
    "# plt.show()"
   ]
  },
  {
   "cell_type": "code",
   "execution_count": 67,
   "metadata": {},
   "outputs": [
    {
     "data": {
      "image/png": "[encoded data removed]",
      "text/plain": [
       "<Figure size 432x720 with 2 Axes>"
      ]
     },
     "metadata": {
      "needs_background": "light"
     },
     "output_type": "display_data"
    }
   ],
   "source": [
    "import matplotlib.animation as animation\n",
    "\n",
    "sampled_threshold = [threshold[i] for i in range(0, len(threshold), 5)][1:]\n",
    "sampled_fpr = [fpr[i] for i in range(0, len(fpr), 5)][1:]\n",
    "sampled_tpr = [recall[i] for i in range(0, len(recall), 5)][1:]\n",
    "\n",
    "def update_auroc(num, lines):\n",
    "    line1, line2, txt, span = lines\n",
    "    line1.set_data([sampled_fpr[num], sampled_fpr[num]], [0, 1])\n",
    "    line2.set_data([sampled_threshold[num], sampled_threshold[num]], [0, 5])\n",
    "    mt = txt.set_text(\"Recall = {} | FP-Rate = {} | AUROC = {}\".format(round(sampled_tpr[num], 2), \n",
    "                                                                       round(sampled_fpr[num], 2),\n",
    "                                                                       round(auroc_v, 2)))\n",
    "    xy = span.xy\n",
    "    thr = sampled_threshold[num]\n",
    "    xy[2][0] = thr\n",
    "    xy[3][0] = thr\n",
    "    span.set_xy(xy)\n",
    "    return (line1, line2, mt), \n",
    "\n",
    "curr_threshold = len(threshold)-100\n",
    "fig, (ax1, ax2) = plt.subplots(2, figsize=(6, 10))\n",
    "\n",
    "ax1.set_title(\"AUROC - An animated explanation\", fontsize=15)\n",
    "ax1.set_xlabel(\"FPrate\")\n",
    "ax1.set_ylabel(\"Recall\")\n",
    "ax1.plot(fpr, recall)\n",
    "# ax1.axvline(fpr[curr_threshold])\n",
    "l1 , v1 = ax1.plot(0, 0, 1, 1, linewidth=2, color= 'grey')\n",
    "ax1.plot([i/10 for i in range(11)], [i/10 for i in range(11)], color=\"red\")\n",
    "\n",
    "\n",
    "kwargs = dict(alpha=0.3, density=True, bins=50)\n",
    "custom_lines = [Line2D([0], [0], color=\"red\", lw=5, alpha=0.3),\n",
    "                Line2D([0], [0], color=\"blue\", lw=5, alpha=0.3),\n",
    "                Line2D([0], [0], color=\"green\", lw=5, alpha=0.2)]\n",
    "ax2.set_title(\"Probabilistic scores\", fontsize=14)\n",
    "ax2.hist(normal_dist1, **kwargs, color=\"red\")\n",
    "ax2.hist(normal_dist2, **kwargs, color=\"blue\")\n",
    "l2 , v2 = ax2.plot(0, 0, 1, 1, linewidth=2, color= 'grey')\n",
    "ax2.legend(custom_lines, ['Class 0', 'Class 1', 'Classified as 1'], prop={'size': 11})\n",
    "\n",
    "time_text = ax2.text(-0.05, -1.0, '', fontsize=14)\n",
    "span = ax2.axvspan(1, 1, 0, 1, facecolor='green', alpha=0.2)\n",
    "\n",
    "auroc = animation.FuncAnimation(fig, update_auroc, len(sampled_threshold), fargs=((l1, l2, time_text, span), ))\n",
    "auroc.save('line_animation.mp4', writer='imagemagick', fps=20);\n",
    "\n",
    "plt.show()"
   ]
  },
  {
   "cell_type": "code",
   "execution_count": null,
   "metadata": {},
   "outputs": [],
   "source": []
  },
  {
   "cell_type": "code",
   "execution_count": null,
   "metadata": {},
   "outputs": [],
   "source": []
  },
  {
   "cell_type": "code",
   "execution_count": null,
   "metadata": {},
   "outputs": [],
   "source": []
  }
 ],
 "metadata": {
  "kernelspec": {
   "display_name": "Python 3",
   "language": "python",
   "name": "python3"
  },
  "language_info": {
   "codemirror_mode": {
    "name": "ipython",
    "version": 3
   },
   "file_extension": ".py",
   "mimetype": "text/x-python",
   "name": "python",
   "nbconvert_exporter": "python",
   "pygments_lexer": "ipython3",
   "version": "3.6.9"
  }
 },
 "nbformat": 4,
 "nbformat_minor": 4
}
